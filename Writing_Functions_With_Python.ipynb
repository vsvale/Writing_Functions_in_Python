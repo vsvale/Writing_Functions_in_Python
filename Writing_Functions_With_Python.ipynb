{
 "cells": [
  {
   "cell_type": "markdown",
   "metadata": {},
   "source": [
    "### Docstrings"
   ]
  },
  {
   "cell_type": "code",
   "execution_count": 1,
   "metadata": {},
   "outputs": [],
   "source": [
    "def split_and_stack(df, new_names):\n",
    "    \"\"\"\n",
    "    Split a Datafram's columns into two halves and then stack then vertically, returning a new Dataframe with 'new_names' as the column names.\n",
    "\n",
    "    Args:\n",
    "        df (Dataframe): The Dataframe to split\n",
    "        new_names (iterable of str): the column names for the new Dataframe\n",
    "\n",
    "    Returns:\n",
    "        Dataframe\n",
    "    \"\"\"\n",
    "    half = int(len(df.columns)/2)\n",
    "    left = df.iloc[:,:half]\n",
    "    right = df.iloc[:,half:]\n",
    "    return pd.DataFrame(data=np.vstack([left.values, right.values]), columns=new_names)"
   ]
  },
  {
   "cell_type": "code",
   "execution_count": null,
   "metadata": {},
   "outputs": [],
   "source": [
    "def func(arg):\n",
    "    \"\"\"\n",
    "    Description of what the function does\n",
    "\n",
    "    Args:\n",
    "        arg (type, optional): description of arg. Write optional when an argument has a default value\n",
    "\n",
    "    Returns:\n",
    "        type:  description of return value\n",
    "\n",
    "    Raises:\n",
    "        ValueError: include any error types that the function intentionally raises\n",
    "\n",
    "    Notes:\n",
    "        See https://google.github.io/styleguide/pyguide.html for more info\n",
    "    \"\"\"\n",
    "return arg"
   ]
  },
  {
   "cell_type": "markdown",
   "metadata": {},
   "source": [
    "### Don't repeat yourself (DRY)"
   ]
  },
  {
   "cell_type": "code",
   "execution_count": null,
   "metadata": {},
   "outputs": [],
   "source": [
    "def load_and_plot(path):\n",
    "    \"\"\"\n",
    "    Load a data set and plot the first two principal components\n",
    "\n",
    "    Args:\n",
    "        path(str): location of file\n",
    "\n",
    "    Returns:\n",
    "        tuple of ndarray: (features, labels)\n",
    "    \"\"\"\n",
    "    data = pd.read_csv(path)\n",
    "    y = data['label'].values\n",
    "    X = data[col for col in train.columns if col != 'label'].values\n",
    "    pca = PCA(n_components=2).fit_transform(X)\n",
    "    plt.scatter(pca[:,0],pca[:,1])\n",
    "    return X, y"
   ]
  },
  {
   "cell_type": "code",
   "execution_count": null,
   "metadata": {},
   "outputs": [],
   "source": [
    "train_X, train_y = load_and_plot('train.csv')"
   ]
  },
  {
   "cell_type": "code",
   "execution_count": null,
   "metadata": {},
   "outputs": [],
   "source": [
    "val_X, val_y = load_and_plot('validation.csv')"
   ]
  },
  {
   "cell_type": "code",
   "execution_count": null,
   "metadata": {},
   "outputs": [],
   "source": [
    "test_X, test_y = load_and_plot('test.csv')"
   ]
  },
  {
   "cell_type": "markdown",
   "metadata": {},
   "source": [
    "### Do one thing"
   ]
  },
  {
   "cell_type": "code",
   "execution_count": null,
   "metadata": {},
   "outputs": [],
   "source": [
    "def load_data(path):\n",
    "    \"\"\"\n",
    "    Load a data set\n",
    "\n",
    "    Args:\n",
    "        path(str): location of file\n",
    "\n",
    "    Returns:\n",
    "        tuple of ndarray: (features, labels)\n",
    "    \"\"\"\n",
    "    data = pd.read_csv(path)\n",
    "    y = data['label'].values\n",
    "    X = data[col for col in train.columns if col != 'label'].values\n",
    "    return X, y"
   ]
  },
  {
   "cell_type": "code",
   "execution_count": null,
   "metadata": {},
   "outputs": [],
   "source": [
    "def plot_data(X):\n",
    "    \"\"\"\n",
    "    Plot the first two principal components\n",
    "\n",
    "    Args:\n",
    "        X(numpy.ndarrya): The data to plot\n",
    "    \"\"\"\n",
    "    pca = PCA(n_components=2).fit_transform(X)\n",
    "    plt.scatter(pca[:,0],pca[:,1])"
   ]
  },
  {
   "cell_type": "markdown",
   "metadata": {},
   "source": [
    "### Pass by assignment"
   ]
  },
  {
   "cell_type": "code",
   "execution_count": 4,
   "metadata": {},
   "outputs": [
    {
     "name": "stdout",
     "output_type": "stream",
     "text": [
      "[99, 2, 3]\n"
     ]
    }
   ],
   "source": [
    "def foo(x):\n",
    "    \"\"\"\n",
    "    Change first element to 99\n",
    "\n",
    "    Args:\n",
    "        x(list): list to change\n",
    "    \"\"\"\n",
    "    x[0] = 99\n",
    "\n",
    "my_list = [1,2,3]\n",
    "\n",
    "foo(my_list)\n",
    "print(my_list)"
   ]
  },
  {
   "cell_type": "code",
   "execution_count": 7,
   "metadata": {},
   "outputs": [
    {
     "name": "stdout",
     "output_type": "stream",
     "text": [
      "3\n"
     ]
    }
   ],
   "source": [
    "def bar(x): #x and my_var at same position in memory\n",
    "    \"\"\"\n",
    "    x+90\n",
    "\n",
    "    Args:\n",
    "        x(int): value to add 90\n",
    "    \"\"\"\n",
    "    x = x + 90 #assign to a new position in memory\n",
    "\n",
    "my_var = 3\n",
    "bar(my_var)\n",
    "print(my_var) #my_var still pointing to same location in memory"
   ]
  },
  {
   "cell_type": "code",
   "execution_count": 8,
   "metadata": {},
   "outputs": [],
   "source": [
    "immutable = ['int', 'float', 'bool','string','bytes', 'tuple', 'frozenset', None]\n",
    "mutable = ['list', 'dict','set', 'bytearray','objects', 'functions']"
   ]
  },
  {
   "cell_type": "markdown",
   "metadata": {},
   "source": [
    "### Dangerous default"
   ]
  },
  {
   "cell_type": "code",
   "execution_count": 9,
   "metadata": {},
   "outputs": [],
   "source": [
    "def foo(var=[]):\n",
    "    \"\"\"\n",
    "    Append 1\n",
    "\n",
    "    Args:\n",
    "        var(list,optional): list to append\n",
    "    \n",
    "    Returns:\n",
    "        List: list with 1\n",
    "    \"\"\"\n",
    "    var.append(1)\n",
    "    return var"
   ]
  },
  {
   "cell_type": "code",
   "execution_count": 10,
   "metadata": {},
   "outputs": [
    {
     "data": {
      "text/plain": [
       "[1]"
      ]
     },
     "execution_count": 10,
     "metadata": {},
     "output_type": "execute_result"
    }
   ],
   "source": [
    "foo()"
   ]
  },
  {
   "cell_type": "code",
   "execution_count": 11,
   "metadata": {},
   "outputs": [
    {
     "data": {
      "text/plain": [
       "[1, 1]"
      ]
     },
     "execution_count": 11,
     "metadata": {},
     "output_type": "execute_result"
    }
   ],
   "source": [
    "foo()"
   ]
  },
  {
   "cell_type": "code",
   "execution_count": 12,
   "metadata": {},
   "outputs": [],
   "source": [
    "def foo(var=None):\n",
    "    \"\"\"\n",
    "    Append 1\n",
    "\n",
    "    Args:\n",
    "        var(list,optional): list to append\n",
    "    \n",
    "    Returns:\n",
    "        List: list with 1\n",
    "    \"\"\"\n",
    "    if not var:\n",
    "        var = []\n",
    "    var.append(1)\n",
    "    return var"
   ]
  },
  {
   "cell_type": "code",
   "execution_count": 13,
   "metadata": {},
   "outputs": [
    {
     "data": {
      "text/plain": [
       "[1]"
      ]
     },
     "execution_count": 13,
     "metadata": {},
     "output_type": "execute_result"
    }
   ],
   "source": [
    "foo()"
   ]
  },
  {
   "cell_type": "code",
   "execution_count": 14,
   "metadata": {},
   "outputs": [
    {
     "data": {
      "text/plain": [
       "[1]"
      ]
     },
     "execution_count": 14,
     "metadata": {},
     "output_type": "execute_result"
    }
   ],
   "source": [
    "foo()"
   ]
  },
  {
   "cell_type": "code",
   "execution_count": 15,
   "metadata": {},
   "outputs": [
    {
     "data": {
      "text/plain": [
       "[1]"
      ]
     },
     "execution_count": 15,
     "metadata": {},
     "output_type": "execute_result"
    }
   ],
   "source": [
    "foo([])"
   ]
  },
  {
   "cell_type": "code",
   "execution_count": 16,
   "metadata": {},
   "outputs": [
    {
     "data": {
      "text/plain": [
       "[2, 1]"
      ]
     },
     "execution_count": 16,
     "metadata": {},
     "output_type": "execute_result"
    }
   ],
   "source": [
    "foo([2])"
   ]
  },
  {
   "cell_type": "code",
   "execution_count": 17,
   "metadata": {},
   "outputs": [
    {
     "data": {
      "text/plain": [
       "[1]"
      ]
     },
     "execution_count": 17,
     "metadata": {},
     "output_type": "execute_result"
    }
   ],
   "source": [
    "foo()"
   ]
  },
  {
   "cell_type": "markdown",
   "metadata": {},
   "source": [
    "### Context Manager"
   ]
  },
  {
   "cell_type": "code",
   "execution_count": 1,
   "metadata": {},
   "outputs": [],
   "source": [
    "import wget"
   ]
  },
  {
   "cell_type": "code",
   "execution_count": 4,
   "metadata": {},
   "outputs": [
    {
     "data": {
      "text/plain": [
       "'./students.txt'"
      ]
     },
     "execution_count": 4,
     "metadata": {},
     "output_type": "execute_result"
    }
   ],
   "source": [
    "wget.download('https://archive.org/download/datasets_getting_started_with_spark_two/students.txt','.')"
   ]
  },
  {
   "cell_type": "code",
   "execution_count": 5,
   "metadata": {},
   "outputs": [
    {
     "name": "stdout",
     "output_type": "stream",
     "text": [
      "The file is 58 characters long\n"
     ]
    }
   ],
   "source": [
    "with open('students.txt') as my_file:\n",
    "    #open() sets up a context by opening a file\n",
    "    text = my_file.read() #Let me run any code i want on that file\n",
    "    length = len(text)\n",
    "    #Removes the context byclosing the file\n",
    "print('The file is {} characters long'.format(length))"
   ]
  },
  {
   "cell_type": "code",
   "execution_count": 6,
   "metadata": {},
   "outputs": [],
   "source": [
    "#with context-manager(args) as variable:\n",
    "    #code inside the context\n",
    "#context is removed"
   ]
  },
  {
   "cell_type": "code",
   "execution_count": 8,
   "metadata": {},
   "outputs": [],
   "source": [
    "from contextlib import contextmanager"
   ]
  },
  {
   "cell_type": "code",
   "execution_count": 9,
   "metadata": {},
   "outputs": [],
   "source": [
    "#create a context manager\n",
    "@contextmanager\n",
    "def my_context():\n",
    "    print('hello')\n",
    "    yield 42\n",
    "    print('goodbye')\n"
   ]
  },
  {
   "cell_type": "code",
   "execution_count": 10,
   "metadata": {},
   "outputs": [
    {
     "name": "stdout",
     "output_type": "stream",
     "text": [
      "hello\n",
      "foo is 42\n",
      "goodbye\n"
     ]
    }
   ],
   "source": [
    "with my_context() as foo:\n",
    "    print('foo is {}'.format(foo))"
   ]
  },
  {
   "cell_type": "code",
   "execution_count": 13,
   "metadata": {},
   "outputs": [],
   "source": [
    "@contextmanager\n",
    "def database(url):\n",
    "    db = postgres.connect(url)\n",
    "    yield db\n",
    "    db.disconnect()"
   ]
  },
  {
   "cell_type": "code",
   "execution_count": 16,
   "metadata": {},
   "outputs": [],
   "source": [
    "#url = 'http://datacamp.com/data'\n",
    "#with database(url) as my_db:\n",
    "#    course_list = my_db.execute('select * from courses')"
   ]
  },
  {
   "cell_type": "markdown",
   "metadata": {},
   "source": [
    "### Nested Contexts"
   ]
  },
  {
   "cell_type": "code",
   "execution_count": 18,
   "metadata": {},
   "outputs": [],
   "source": [
    "#fail if file dont fit in memory\n",
    "def copy(src, dst):\n",
    "    \"\"\"\n",
    "    Copy the contents of one file to another.\n",
    "\n",
    "    Args:\n",
    "        src(str): File name of the file to the copied\n",
    "        dst(str): where to write the new file\n",
    "    \"\"\"\n",
    "    with open(src) as origem:\n",
    "        contents = origem.read()\n",
    "\n",
    "    with open(dst,'w') as destino:\n",
    "        destino.write(contents)"
   ]
  },
  {
   "cell_type": "code",
   "execution_count": 17,
   "metadata": {},
   "outputs": [],
   "source": [
    "#better approch\n",
    "def copy(src, dst):\n",
    "    \"\"\"\n",
    "    Copy the contents of one file to another.\n",
    "\n",
    "    Args:\n",
    "        src(str): File name of the file to the copied\n",
    "        dst(str): where to write the new file\n",
    "    \"\"\"\n",
    "    with open(src) as origem:\n",
    "        with open(dst,'w') as destino:\n",
    "            for line in origem:  \n",
    "                destino.write(contents)"
   ]
  },
  {
   "cell_type": "markdown",
   "metadata": {},
   "source": [
    "### Handling erros"
   ]
  },
  {
   "cell_type": "code",
   "execution_count": 20,
   "metadata": {},
   "outputs": [],
   "source": [
    "def get_printer(ip):\n",
    "    p = connect_to_printer(ip)\n",
    "\n",
    "    try:\n",
    "        yield\n",
    "    finally:\n",
    "        p.disconnect()\n",
    "        print('disconnect from printer')"
   ]
  },
  {
   "cell_type": "markdown",
   "metadata": {},
   "source": [
    "### Function is an object"
   ]
  },
  {
   "cell_type": "code",
   "execution_count": 22,
   "metadata": {},
   "outputs": [
    {
     "name": "stdout",
     "output_type": "stream",
     "text": [
      "hello\n"
     ]
    }
   ],
   "source": [
    "x = print\n",
    "x('hello')"
   ]
  },
  {
   "cell_type": "code",
   "execution_count": 28,
   "metadata": {},
   "outputs": [],
   "source": [
    "list_func = [sum,help,print]"
   ]
  },
  {
   "cell_type": "code",
   "execution_count": 34,
   "metadata": {},
   "outputs": [
    {
     "name": "stdout",
     "output_type": "stream",
     "text": [
      "4\n"
     ]
    }
   ],
   "source": [
    "list_func[2](list_func[0]([2,2]))\n"
   ]
  },
  {
   "cell_type": "code",
   "execution_count": 35,
   "metadata": {},
   "outputs": [],
   "source": [
    "dict_func ={'func1':sum,'func2':help,'func3':print}"
   ]
  },
  {
   "cell_type": "code",
   "execution_count": 39,
   "metadata": {},
   "outputs": [
    {
     "name": "stdout",
     "output_type": "stream",
     "text": [
      "hello\n"
     ]
    }
   ],
   "source": [
    "dict_func['func3']('hello')"
   ]
  },
  {
   "cell_type": "code",
   "execution_count": 40,
   "metadata": {},
   "outputs": [],
   "source": [
    "def has_docstring(func):\n",
    "    \"\"\"\n",
    "    Check to see if the func 'func' has a docstring\n",
    "\n",
    "    Args:\n",
    "        func (callable): A function\n",
    "\n",
    "    Returns:\n",
    "        bool\n",
    "    \"\"\"\n",
    "    return func.__doc__ is not None"
   ]
  },
  {
   "cell_type": "code",
   "execution_count": 41,
   "metadata": {},
   "outputs": [],
   "source": [
    "def no():\n",
    "    return 4"
   ]
  },
  {
   "cell_type": "code",
   "execution_count": 42,
   "metadata": {},
   "outputs": [
    {
     "data": {
      "text/plain": [
       "[False, True]"
      ]
     },
     "execution_count": 42,
     "metadata": {},
     "output_type": "execute_result"
    }
   ],
   "source": [
    "[has_docstring(no), has_docstring(print)]"
   ]
  },
  {
   "cell_type": "markdown",
   "metadata": {},
   "source": [
    "## Scope"
   ]
  },
  {
   "cell_type": "code",
   "execution_count": 50,
   "metadata": {},
   "outputs": [
    {
     "name": "stdout",
     "output_type": "stream",
     "text": [
      "7\n",
      "2\n"
     ]
    }
   ],
   "source": [
    "x = 7\n",
    "y = 2\n",
    "print(x) #global scope\n",
    "print(y)"
   ]
  },
  {
   "cell_type": "code",
   "execution_count": 51,
   "metadata": {},
   "outputs": [
    {
     "name": "stdout",
     "output_type": "stream",
     "text": [
      "42\n",
      "2\n"
     ]
    }
   ],
   "source": [
    "def foo():\n",
    "    x = 42\n",
    "    print(x) #local scope\n",
    "    print(y)\n",
    "foo()"
   ]
  },
  {
   "cell_type": "code",
   "execution_count": 55,
   "metadata": {},
   "outputs": [],
   "source": [
    "def bar():\n",
    "    y=5 #non local scope\n",
    "    def moo():\n",
    "        x = 55\n",
    "        print(x) #local scope\n",
    "        print(y)\n",
    "    moo()"
   ]
  },
  {
   "cell_type": "code",
   "execution_count": 56,
   "metadata": {},
   "outputs": [
    {
     "name": "stdout",
     "output_type": "stream",
     "text": [
      "55\n",
      "5\n"
     ]
    }
   ],
   "source": [
    "bar()"
   ]
  },
  {
   "cell_type": "markdown",
   "metadata": {},
   "source": [
    "Closure"
   ]
  },
  {
   "cell_type": "code",
   "execution_count": 2,
   "metadata": {},
   "outputs": [
    {
     "name": "stdout",
     "output_type": "stream",
     "text": [
      "25\n"
     ]
    }
   ],
   "source": [
    "x = 25\n",
    "\n",
    "def foo(value):\n",
    "    def bar():\n",
    "        print(value)\n",
    "    return bar\n",
    "\n",
    "my_func = foo(x) #add x=25 to foo. my_func = foo(25). Value persist in foo closure\n",
    "my_func()"
   ]
  },
  {
   "cell_type": "code",
   "execution_count": 3,
   "metadata": {},
   "outputs": [
    {
     "name": "stdout",
     "output_type": "stream",
     "text": [
      "25\n"
     ]
    }
   ],
   "source": [
    "del(x)\n",
    "my_func()"
   ]
  },
  {
   "cell_type": "code",
   "execution_count": 4,
   "metadata": {},
   "outputs": [
    {
     "data": {
      "text/plain": [
       "25"
      ]
     },
     "execution_count": 4,
     "metadata": {},
     "output_type": "execute_result"
    }
   ],
   "source": [
    "my_func.__closure__[0].cell_contents"
   ]
  },
  {
   "cell_type": "markdown",
   "metadata": {},
   "source": [
    "@Decorators"
   ]
  },
  {
   "cell_type": "code",
   "execution_count": 6,
   "metadata": {},
   "outputs": [
    {
     "data": {
      "text/plain": [
       "20"
      ]
     },
     "execution_count": 6,
     "metadata": {},
     "output_type": "execute_result"
    }
   ],
   "source": [
    "#change input, output or function\n",
    "\n",
    "def double_args(func):\n",
    "    def wrapper(a,b):\n",
    "        return func(a*2,b*2)\n",
    "    return wrapper\n",
    "\n",
    "@double_args #read as multiply = double_args(multiply)\n",
    "def multiply(a,b):\n",
    "    return a * b\n",
    "\n",
    "multiply(1,5)"
   ]
  },
  {
   "cell_type": "code",
   "execution_count": 14,
   "metadata": {},
   "outputs": [],
   "source": [
    "import time\n",
    "from functools import wraps #without it we lose metadata\n",
    "\n",
    "def timer(func):\n",
    "    \"\"\"\n",
    "    A decorator that prints how long a function took to run\n",
    "    \"\"\"\n",
    "    @wraps(func)\n",
    "    def wrapper(*args, **kwargs):\n",
    "        start = time.time()\n",
    "        result = func(*args, **kwargs)\n",
    "        total = time.time() - start\n",
    "        print('{} took {}s'.format(func.__name__,total))\n",
    "        return result\n",
    "    return wrapper"
   ]
  },
  {
   "cell_type": "code",
   "execution_count": 17,
   "metadata": {},
   "outputs": [],
   "source": [
    "@timer\n",
    "def sleep(n):\n",
    "    \"\"\"Sleep 3 sec\"\"\"\n",
    "    time.sleep(n)"
   ]
  },
  {
   "cell_type": "code",
   "execution_count": 16,
   "metadata": {},
   "outputs": [
    {
     "name": "stdout",
     "output_type": "stream",
     "text": [
      "sleep took 3.0030527114868164s\n"
     ]
    }
   ],
   "source": [
    "sleep(3)"
   ]
  },
  {
   "cell_type": "code",
   "execution_count": 18,
   "metadata": {},
   "outputs": [
    {
     "name": "stdout",
     "output_type": "stream",
     "text": [
      "Sleep 3 sec\n"
     ]
    }
   ],
   "source": [
    "print(sleep.__doc__)"
   ]
  },
  {
   "cell_type": "code",
   "execution_count": 19,
   "metadata": {},
   "outputs": [
    {
     "name": "stdout",
     "output_type": "stream",
     "text": [
      "sleep\n"
     ]
    }
   ],
   "source": [
    "print(sleep.__name__)"
   ]
  },
  {
   "cell_type": "markdown",
   "metadata": {},
   "source": [
    "Memorization"
   ]
  },
  {
   "cell_type": "code",
   "execution_count": 1,
   "metadata": {},
   "outputs": [],
   "source": [
    "from functools import lru_cache"
   ]
  },
  {
   "cell_type": "code",
   "execution_count": 10,
   "metadata": {},
   "outputs": [],
   "source": [
    "def fibonacci_of(n):\n",
    "    \"\"\"Calculate fibonacci of n\"\"\"\n",
    "    if n in {0, 1}:  # Base case\n",
    "        return n\n",
    "    return fibonacci_of(n - 1) + fibonacci_of(n - 2) "
   ]
  },
  {
   "cell_type": "code",
   "execution_count": 9,
   "metadata": {},
   "outputs": [],
   "source": [
    "@lru_cache\n",
    "def fibonacci_lru(n):\n",
    "    \"\"\"Calculate fibonacci of n\"\"\"\n",
    "    if n in {0, 1}:  # Base case\n",
    "        return n\n",
    "    return fibonacci_lru(n - 1) + fibonacci_lru(n - 2) "
   ]
  },
  {
   "cell_type": "code",
   "execution_count": 7,
   "metadata": {},
   "outputs": [
    {
     "name": "stdout",
     "output_type": "stream",
     "text": [
      "1.04 ms ± 3.92 µs per loop (mean ± std. dev. of 7 runs, 1,000 loops each)\n"
     ]
    }
   ],
   "source": [
    "%timeit fibonacci_of(20)"
   ]
  },
  {
   "cell_type": "code",
   "execution_count": 8,
   "metadata": {},
   "outputs": [
    {
     "name": "stdout",
     "output_type": "stream",
     "text": [
      "34.2 ns ± 0.031 ns per loop (mean ± std. dev. of 7 runs, 10,000,000 loops each)\n"
     ]
    }
   ],
   "source": [
    "%timeit fibonacci_lru(20)"
   ]
  },
  {
   "cell_type": "markdown",
   "metadata": {},
   "source": [
    "Args in Decorator"
   ]
  },
  {
   "cell_type": "code",
   "execution_count": 20,
   "metadata": {},
   "outputs": [],
   "source": [
    "from functools import wraps\n",
    "\n",
    "def run_n_time(n):\n",
    "    \"\"\" Define and return a decorator\"\"\"\n",
    "    def decorator(func):\n",
    "        @wraps(func)\n",
    "        def wrapper(*args, **kwargs):\n",
    "            for i in range(n):\n",
    "                func(*args, **kwargs)\n",
    "        return wrapper\n",
    "    return decorator"
   ]
  },
  {
   "cell_type": "code",
   "execution_count": 21,
   "metadata": {},
   "outputs": [],
   "source": [
    "@run_n_time(3)\n",
    "def print_sum(a,b):\n",
    "    print(a + b)"
   ]
  },
  {
   "cell_type": "code",
   "execution_count": 22,
   "metadata": {},
   "outputs": [
    {
     "name": "stdout",
     "output_type": "stream",
     "text": [
      "3\n",
      "3\n",
      "3\n"
     ]
    }
   ],
   "source": [
    "print_sum(1,2)"
   ]
  }
 ],
 "metadata": {
  "interpreter": {
   "hash": "916dbcbb3f70747c44a77c7bcd40155683ae19c65e1c03b4aa3499c5328201f1"
  },
  "kernelspec": {
   "display_name": "Python 3.8.10 64-bit",
   "language": "python",
   "name": "python3"
  },
  "language_info": {
   "codemirror_mode": {
    "name": "ipython",
    "version": 3
   },
   "file_extension": ".py",
   "mimetype": "text/x-python",
   "name": "python",
   "nbconvert_exporter": "python",
   "pygments_lexer": "ipython3",
   "version": "3.8.10"
  },
  "orig_nbformat": 4
 },
 "nbformat": 4,
 "nbformat_minor": 2
}
